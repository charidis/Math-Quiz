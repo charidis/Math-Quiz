{
  "cells": [
    {
      "cell_type": "markdown",
      "metadata": {
        "id": "view-in-github",
        "colab_type": "text"
      },
      "source": [
        "<a href=\"https://colab.research.google.com/github/charidis/Math-Quiz/blob/main/HelloWorld%2C_Python_Assignment1_.ipynb\" target=\"_parent\"><img src=\"https://colab.research.google.com/assets/colab-badge.svg\" alt=\"Open In Colab\"/></a>"
      ]
    },
    {
      "cell_type": "code",
      "execution_count": 1,
      "metadata": {
        "colab": {
          "base_uri": "https://localhost:8080/"
        },
        "id": "8zl_bDuoOJFF",
        "outputId": "bb21d5ba-21fd-4b8e-98c8-0ffa27d1ea79"
      },
      "outputs": [
        {
          "output_type": "stream",
          "name": "stdout",
          "text": [
            "What is 1 + 9? 10\n",
            "Good job\n",
            "What is 3 + 10? 13\n",
            "Good job\n",
            "What is 8 - 4? 4\n",
            "Good job\n",
            "What is 5 + 6? 11\n",
            "Good job\n",
            "What is 6 + 6? 12\n",
            "Good job\n",
            "\n",
            "====================\n",
            "Number of correct questions: 5\n",
            "Grade: A\n",
            "All questions\n",
            "====================\n",
            "What is 1 + 9?                    Correct\n",
            "What is 3 + 10?                    Correct\n",
            "What is 8 - 4?                    Correct\n",
            "What is 5 + 6?                    Correct\n",
            "What is 6 + 6?                    Correct\n"
          ]
        }
      ],
      "source": [
        "import random\n",
        "\n",
        "# arrayof the questions and if its right or wrong\n",
        "questionArray = []\n",
        "testResults =[]\n",
        "\n",
        "\n",
        "# this function makes a random math question,\n",
        "# appends that question to the questions array,\n",
        "# asks the user for an answer to that question, then\n",
        "# reponses with if the answer is right or wrong.\n",
        "def generateQuestion(correct):\n",
        "   num1 = random.randrange(1, 11)\n",
        "   num2 = random.randrange(1, 11)\n",
        "   randomOperation = random.randrange(0, 2)\n",
        "\n",
        "   if randomOperation == 0:\n",
        "    problem  = \"What is \"+ str(num1) + ' + ' + str(num2) + \"? \"\n",
        "    questionArray.append(problem)\n",
        "    solution = num1 + num2\n",
        "    result  = int(input(problem))\n",
        "    if result==solution:\n",
        "      print(\"Good job\")\n",
        "      testResults.append(\"Correct\")\n",
        "      correct += 1\n",
        "      return correct\n",
        "    else:\n",
        "      print(\"Wrong Answer\")\n",
        "      testResults.append(\"Incorrect\")\n",
        "      return correct\n",
        "   else:\n",
        "    problem  = \"What is \"+ str(num1) + ' - ' + str(num2) + \"? \"\n",
        "    questionArray.append(problem)\n",
        "    solution = num1 - num2\n",
        "\n",
        "    result  = int(input(problem))\n",
        "    if result==solution:\n",
        "      print(\"Good job\");\n",
        "      testResults.append(\"Correct\");\n",
        "      correct += 1\n",
        "      return correct\n",
        "    else:\n",
        "      print(\"Wrong Answer\")\n",
        "      testResults.append(\"Incorrect\")\n",
        "      return correct\n",
        "\n",
        "# function returns a letter grade for the quiz results\n",
        "def numberGradeToLetterGrade():\n",
        "  total=0\n",
        "  totalSubCorrect=0\n",
        "  totalAddCorrect=0\n",
        "  score=0\n",
        "\n",
        "  for i in range(0, 5):\n",
        "    if '-' in questionArray[i]:\n",
        "      total=total+10\n",
        "      if testResults[i]==\"Correct\":\n",
        "        totalSubCorrect=totalSubCorrect+1\n",
        "    elif '+' in questionArray[i]:\n",
        "      total=total+5\n",
        "      if testResults[i]==\"Correct\":\n",
        "         totalAddCorrect=totalAddCorrect+1\n",
        "\n",
        "  score=(((totalAddCorrect*5)+(totalSubCorrect*10))/total)*100\n",
        "\n",
        "\n",
        "  if(score>=90):\n",
        "    return \"A\"\n",
        "  elif(score<=89 and score>=80):\n",
        "    return \"B\"\n",
        "  elif(score<=79 and score>=60):\n",
        "    return \"C\"\n",
        "  elif(score<=69 and score>50):\n",
        "    return \"D\"\n",
        "  else:\n",
        "    return \"F\"\n",
        "\n",
        "def main():\n",
        "  totalCorrect=0\n",
        "  for i in range(5):\n",
        "    totalCorrect=generateQuestion(totalCorrect)\n",
        "  print(\"\")\n",
        "  print(\"====================\")\n",
        "  print(\"Number of correct questions: \" +str(totalCorrect))\n",
        "  grade = numberGradeToLetterGrade()\n",
        "  print(\"Grade: \"+ grade)\n",
        "  print(\"All questions\")\n",
        "  print(\"====================\")\n",
        "  for i in range(0, 5):\n",
        "    print(\"{0:15} {1:>25}\".format(questionArray[i],testResults[i]))\n",
        "\n",
        "main()\n",
        "\n"
      ]
    }
  ],
  "metadata": {
    "colab": {
      "provenance": [],
      "include_colab_link": true
    },
    "kernelspec": {
      "display_name": "Python 3.11.3 64-bit",
      "language": "python",
      "name": "python3"
    },
    "language_info": {
      "codemirror_mode": {
        "name": "ipython",
        "version": 3
      },
      "file_extension": ".py",
      "mimetype": "text/x-python",
      "name": "python",
      "nbconvert_exporter": "python",
      "pygments_lexer": "ipython3",
      "version": "3.11.3"
    },
    "vscode": {
      "interpreter": {
        "hash": "aee8b7b246df8f9039afb4144a1f6fd8d2ca17a180786b69acc140d282b71a49"
      }
    }
  },
  "nbformat": 4,
  "nbformat_minor": 0
}